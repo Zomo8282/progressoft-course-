{
 "cells": [
  {
   "cell_type": "markdown",
   "id": "2eb50ca5",
   "metadata": {},
   "source": [
    "# Lecture 6"
   ]
  },
  {
   "cell_type": "code",
   "execution_count": 48,
   "id": "9f715622",
   "metadata": {},
   "outputs": [],
   "source": [
    "from tensorflow import keras\n",
    "from matplotlib import pyplot as plt\n",
    "\n",
    "(train_x, train_y), (test_x, test_y) = keras.datasets.mnist.load_data()"
   ]
  },
  {
   "cell_type": "code",
   "execution_count": 12,
   "id": "0062ea9c",
   "metadata": {},
   "outputs": [
    {
     "data": {
      "image/png": "[encoded data removed]",
      "text/plain": [
       "<Figure size 432x288 with 1 Axes>"
      ]
     },
     "metadata": {
      "needs_background": "light"
     },
     "output_type": "display_data"
    },
    {
     "name": "stdout",
     "output_type": "stream",
     "text": [
      "[[  0   0   0   0   0   0   0   0   0   0   0   0   0   0   0   0   0   0\n",
      "    0   0   0   0   0   0   0   0   0   0]\n",
      " [  0   0   0   0   0   0   0   0   0   0   0   0   0   0   0   0   0   0\n",
      "    0   0   0   0   0   0   0   0   0   0]\n",
      " [  0   0   0   0   0   0   0   0   0   0   0   0   0   0   0   0   0   0\n",
      "    0   0   0   0   0   0   0   0   0   0]\n",
      " [  0   0   0   0   0   0   0   0   0   0   0   0   0   0   0   0   0   0\n",
      "    0   0   0   0   0   0   0   0   0   0]\n",
      " [  0   0   0   0   0   0   0   0   0   0   0   0   0   0   0   0   0   0\n",
      "    0   0   0   0   0   0   0   0   0   0]\n",
      " [  0   0   0   0   0   0   0   0   0   0   0   0   0   0  36 146 254 255\n",
      "  251  95   6   0   0   0   0   0   0   0]\n",
      " [  0   0   0   0   0   0   0   0   0   0   0   0   3  97 234 254 254 232\n",
      "  254 254  35   0   0   0   0   0   0   0]\n",
      " [  0   0   0   0   0   0   0   0   0   0   0  89 140 254 254 174  67  33\n",
      "  200 254 190   0   0   0   0   0   0   0]\n",
      " [  0   0   0   0   0   0   0   0   0   0 108 253 254 235  51   1   0   0\n",
      "   12 254 253  56   0   0   0   0   0   0]\n",
      " [  0   0   0   0   0   0   0   0   0  12 216 254 244  55   0   0   0   0\n",
      "    6 213 254  57   0   0   0   0   0   0]\n",
      " [  0   0   0   0   0   0   0   0   0  25 254 254 132   0   0   0   0   0\n",
      "    0 168 254  57   0   0   0   0   0   0]\n",
      " [  0   0   0   0   0   0   0   0   0  45 254 243  34   0   0   0   0   0\n",
      "    0 168 254  57   0   0   0   0   0   0]\n",
      " [  0   0   0   0   0   0   0   0   0 128 254 157   0   0   0   0   0   0\n",
      "    0 168 254  57   0   0   0   0   0   0]\n",
      " [  0   0   0   0   0   0   0   0  19 228 254 105   0   0   0   0   0   0\n",
      "    7 228 254  57   0   0   0   0   0   0]\n",
      " [  0   0   0   0   0   0   0   0  58 254 254  87   0   0   0   0   0   0\n",
      "   10 254 246  47   0   0   0   0   0   0]\n",
      " [  0   0   0   0   0   0   0   0  58 254 254   9   0   0   0   0   0   0\n",
      "   10 254 210   0   0   0   0   0   0   0]\n",
      " [  0   0   0   0   0   0   0   0  58 254 254   9   0   0   0   0   0   0\n",
      "  105 254  91   0   0   0   0   0   0   0]\n",
      " [  0   0   0   0   0   0   0   0   5 219 254   9   0   0   0   0   0  24\n",
      "  230 254  24   0   0   0   0   0   0   0]\n",
      " [  0   0   0   0   0   0   0   0   0 216 254   9   0   0   0   0   0  84\n",
      "  254 251  23   0   0   0   0   0   0   0]\n",
      " [  0   0   0   0   0   0   0   0   0 216 254  36   0   0   0   0  22 208\n",
      "  251  94   0   0   0   0   0   0   0   0]\n",
      " [  0   0   0   0   0   0   0   0   0 129 254 120   0   0   0   3 140 254\n",
      "  229   0   0   0   0   0   0   0   0   0]\n",
      " [  0   0   0   0   0   0   0   0   0  83 254 222  17   0   0  91 254 236\n",
      "   53   0   0   0   0   0   0   0   0   0]\n",
      " [  0   0   0   0   0   0   0   0   0  18 235 254 134  21 119 237 254 124\n",
      "    0   0   0   0   0   0   0   0   0   0]\n",
      " [  0   0   0   0   0   0   0   0   0   0  53 249 254 234 252 254 172   3\n",
      "    0   0   0   0   0   0   0   0   0   0]\n",
      " [  0   0   0   0   0   0   0   0   0   0   0 116 237 254 254 133  20   0\n",
      "    0   0   0   0   0   0   0   0   0   0]\n",
      " [  0   0   0   0   0   0   0   0   0   0   0   0   0   0   0   0   0   0\n",
      "    0   0   0   0   0   0   0   0   0   0]\n",
      " [  0   0   0   0   0   0   0   0   0   0   0   0   0   0   0   0   0   0\n",
      "    0   0   0   0   0   0   0   0   0   0]\n",
      " [  0   0   0   0   0   0   0   0   0   0   0   0   0   0   0   0   0   0\n",
      "    0   0   0   0   0   0   0   0   0   0]]\n"
     ]
    }
   ],
   "source": [
    "plt.imshow(train_x[1000], plt.cm.gray)\n",
    "plt.show()\n",
    "print(train_x[1000])"
   ]
  },
  {
   "cell_type": "markdown",
   "id": "193f049c",
   "metadata": {},
   "source": [
    "## Feed Forward MNIST"
   ]
  },
  {
   "cell_type": "code",
   "execution_count": 49,
   "id": "516c6963",
   "metadata": {},
   "outputs": [],
   "source": [
    "import numpy as np\n",
    "\n",
    "# normalize inputs\n",
    "train_x = train_x.astype(np.float32) / 255\n",
    "test_x = test_x.astype(np.float32) / 255\n",
    "\n",
    "# convert labels to one-hot encoded vectors\n",
    "train_y = keras.utils.to_categorical(train_y, 10)\n",
    "test_y = keras.utils.to_categorical(test_y, 10)"
   ]
  },
  {
   "cell_type": "code",
   "execution_count": 35,
   "id": "6463c476",
   "metadata": {},
   "outputs": [
    {
     "name": "stdout",
     "output_type": "stream",
     "text": [
      "Model: \"model_4\"\n",
      "_________________________________________________________________\n",
      " Layer (type)                Output Shape              Param #   \n",
      "=================================================================\n",
      " input_5 (InputLayer)        [(None, 28, 28)]          0         \n",
      "                                                                 \n",
      " flatten_3 (Flatten)         (None, 784)               0         \n",
      "                                                                 \n",
      " dense_12 (Dense)            (None, 784)               615440    \n",
      "                                                                 \n",
      " dense_13 (Dense)            (None, 100)               78500     \n",
      "                                                                 \n",
      " dense_14 (Dense)            (None, 10)                1010      \n",
      "                                                                 \n",
      "=================================================================\n",
      "Total params: 694,950\n",
      "Trainable params: 694,950\n",
      "Non-trainable params: 0\n",
      "_________________________________________________________________\n"
     ]
    }
   ],
   "source": [
    "input_layer = keras.layers.Input((28, 28))\n",
    "flat = keras.layers.Flatten()(input_layer)\n",
    "dense1 = keras.layers.Dense(784, activation='relu')(flat)\n",
    "dense2 = keras.layers.Dense(100, activation='relu')(dense1)\n",
    "output = keras.layers.Dense(10, activation='sigmoid')(dense2)\n",
    "model = keras.models.Model(inputs=[input_layer], outputs=[output])\n",
    "model.summary()"
   ]
  },
  {
   "cell_type": "code",
   "execution_count": 36,
   "id": "f6def1c5",
   "metadata": {},
   "outputs": [
    {
     "name": "stdout",
     "output_type": "stream",
     "text": [
      "Epoch 1/20\n",
      "399/399 [==============================] - 3s 6ms/step - loss: 0.4243 - categorical_accuracy: 0.8819 - val_loss: 0.2137 - val_categorical_accuracy: 0.9406\n",
      "Epoch 2/20\n",
      "399/399 [==============================] - 2s 6ms/step - loss: 0.2030 - categorical_accuracy: 0.9415 - val_loss: 0.1519 - val_categorical_accuracy: 0.9581\n",
      "Epoch 3/20\n",
      "399/399 [==============================] - 2s 6ms/step - loss: 0.1466 - categorical_accuracy: 0.9576 - val_loss: 0.1342 - val_categorical_accuracy: 0.9622\n",
      "Epoch 4/20\n",
      "399/399 [==============================] - 2s 6ms/step - loss: 0.1156 - categorical_accuracy: 0.9673 - val_loss: 0.1187 - val_categorical_accuracy: 0.9659\n",
      "Epoch 5/20\n",
      "399/399 [==============================] - 2s 6ms/step - loss: 0.0930 - categorical_accuracy: 0.9730 - val_loss: 0.0943 - val_categorical_accuracy: 0.9728\n",
      "Epoch 6/20\n",
      "399/399 [==============================] - 2s 6ms/step - loss: 0.0768 - categorical_accuracy: 0.9783 - val_loss: 0.0891 - val_categorical_accuracy: 0.9754\n",
      "Epoch 7/20\n",
      "399/399 [==============================] - 2s 6ms/step - loss: 0.0646 - categorical_accuracy: 0.9818 - val_loss: 0.0868 - val_categorical_accuracy: 0.9748\n",
      "Epoch 8/20\n",
      "399/399 [==============================] - 2s 6ms/step - loss: 0.0551 - categorical_accuracy: 0.9841 - val_loss: 0.0854 - val_categorical_accuracy: 0.9749\n",
      "Epoch 9/20\n",
      "399/399 [==============================] - 2s 6ms/step - loss: 0.0465 - categorical_accuracy: 0.9877 - val_loss: 0.0804 - val_categorical_accuracy: 0.9773\n",
      "Epoch 10/20\n",
      "399/399 [==============================] - 2s 6ms/step - loss: 0.0395 - categorical_accuracy: 0.9896 - val_loss: 0.0898 - val_categorical_accuracy: 0.9713\n",
      "Epoch 11/20\n",
      "399/399 [==============================] - 3s 9ms/step - loss: 0.0343 - categorical_accuracy: 0.9918 - val_loss: 0.0821 - val_categorical_accuracy: 0.9766\n",
      "Epoch 12/20\n",
      "399/399 [==============================] - 4s 9ms/step - loss: 0.0298 - categorical_accuracy: 0.9924 - val_loss: 0.0734 - val_categorical_accuracy: 0.9792\n",
      "Epoch 13/20\n",
      "399/399 [==============================] - 3s 8ms/step - loss: 0.0254 - categorical_accuracy: 0.9946 - val_loss: 0.0688 - val_categorical_accuracy: 0.9804\n",
      "Epoch 14/20\n",
      "399/399 [==============================] - 4s 9ms/step - loss: 0.0219 - categorical_accuracy: 0.9956 - val_loss: 0.0667 - val_categorical_accuracy: 0.9816\n",
      "Epoch 15/20\n",
      "399/399 [==============================] - 4s 9ms/step - loss: 0.0191 - categorical_accuracy: 0.9963 - val_loss: 0.0725 - val_categorical_accuracy: 0.9796\n",
      "Epoch 16/20\n",
      "399/399 [==============================] - 4s 10ms/step - loss: 0.0165 - categorical_accuracy: 0.9973 - val_loss: 0.0685 - val_categorical_accuracy: 0.9821\n",
      "Epoch 17/20\n",
      "399/399 [==============================] - 3s 8ms/step - loss: 0.0143 - categorical_accuracy: 0.9976 - val_loss: 0.0684 - val_categorical_accuracy: 0.9811\n",
      "Epoch 18/20\n",
      "399/399 [==============================] - 3s 9ms/step - loss: 0.0121 - categorical_accuracy: 0.9984 - val_loss: 0.0726 - val_categorical_accuracy: 0.9800\n",
      "Epoch 19/20\n",
      "399/399 [==============================] - 3s 7ms/step - loss: 0.0109 - categorical_accuracy: 0.9985 - val_loss: 0.0671 - val_categorical_accuracy: 0.9818\n",
      "Epoch 20/20\n",
      "399/399 [==============================] - 3s 6ms/step - loss: 0.0094 - categorical_accuracy: 0.9990 - val_loss: 0.0663 - val_categorical_accuracy: 0.9830\n"
     ]
    }
   ],
   "source": [
    "model.compile(loss='categorical_crossentropy', \n",
    "              optimizer=keras.optimizers.SGD(0.1),\n",
    "              metrics=['categorical_accuracy'])\n",
    "\n",
    "model_checkpoint_callback = keras.callbacks.ModelCheckpoint(\n",
    "    filepath='model.hdf5',\n",
    "    monitor='val_categorical_accuracy',\n",
    "    mode='max',\n",
    "    save_best_only=True)\n",
    "\n",
    "history = model.fit(train_x, \n",
    "                    train_y,\n",
    "                    batch_size=128,\n",
    "                    validation_split=0.15,\n",
    "                    shuffle=True,\n",
    "                    epochs=20,\n",
    "                    callbacks=[model_checkpoint_callback])"
   ]
  },
  {
   "cell_type": "code",
   "execution_count": 45,
   "id": "9696a77f",
   "metadata": {},
   "outputs": [
    {
     "data": {
      "image/png": "[encoded data removed]",
      "text/plain": [
       "<Figure size 864x288 with 2 Axes>"
      ]
     },
     "metadata": {
      "needs_background": "light"
     },
     "output_type": "display_data"
    }
   ],
   "source": [
    "fig, axs = plt.subplots(1, 2, figsize=(12, 4))\n",
    "\n",
    "epochs_list = list(range(history.params['epochs']))\n",
    "axs[0].plot(epochs_list, history.history['loss'], color='red')\n",
    "axs[0].plot(epochs_list, history.history['val_loss'], color='blue')\n",
    "axs[1].plot(epochs_list, history.history['categorical_accuracy'], color='red')\n",
    "axs[1].plot(epochs_list, history.history['val_categorical_accuracy'], color='blue')\n",
    "plt.show()"
   ]
  },
  {
   "cell_type": "code",
   "execution_count": 51,
   "id": "8fe043b5",
   "metadata": {},
   "outputs": [
    {
     "name": "stdout",
     "output_type": "stream",
     "text": [
      "test loss: 0.06321380287408829\n",
      "test accuracy: 0.9803000092506409\n"
     ]
    }
   ],
   "source": [
    "results = model.evaluate(test_x, test_y, verbose=0)\n",
    "print(\"test loss:\", results[0])\n",
    "print(\"test accuracy:\", results[1])"
   ]
  },
  {
   "cell_type": "markdown",
   "id": "2bf0f0a1",
   "metadata": {},
   "source": [
    "## Conv MNIST"
   ]
  },
  {
   "cell_type": "code",
   "execution_count": 52,
   "id": "d85f6e08",
   "metadata": {},
   "outputs": [
    {
     "data": {
      "text/plain": [
       "(60000, 28, 28, 1)"
      ]
     },
     "execution_count": 52,
     "metadata": {},
     "output_type": "execute_result"
    }
   ],
   "source": [
    "train_x = np.expand_dims(train_x, -1)\n",
    "test_x = np.expand_dims(test_x, -1)\n",
    "\n",
    "train_x.shape"
   ]
  },
  {
   "cell_type": "code",
   "execution_count": 53,
   "id": "60135e9a",
   "metadata": {},
   "outputs": [
    {
     "name": "stdout",
     "output_type": "stream",
     "text": [
      "Model: \"model_5\"\n",
      "_________________________________________________________________\n",
      " Layer (type)                Output Shape              Param #   \n",
      "=================================================================\n",
      " input_6 (InputLayer)        [(None, 28, 28, 1)]       0         \n",
      "                                                                 \n",
      " conv2d (Conv2D)             (None, 26, 26, 32)        320       \n",
      "                                                                 \n",
      " max_pooling2d (MaxPooling2D  (None, 13, 13, 32)       0         \n",
      " )                                                               \n",
      "                                                                 \n",
      " conv2d_1 (Conv2D)           (None, 11, 11, 64)        18496     \n",
      "                                                                 \n",
      " max_pooling2d_1 (MaxPooling  (None, 5, 5, 64)         0         \n",
      " 2D)                                                             \n",
      "                                                                 \n",
      " flatten_4 (Flatten)         (None, 1600)              0         \n",
      "                                                                 \n",
      " dense_15 (Dense)            (None, 10)                16010     \n",
      "                                                                 \n",
      "=================================================================\n",
      "Total params: 34,826\n",
      "Trainable params: 34,826\n",
      "Non-trainable params: 0\n",
      "_________________________________________________________________\n"
     ]
    }
   ],
   "source": [
    "input_layer = keras.layers.Input((28, 28, 1))\n",
    "conv1 = keras.layers.Conv2D(32, kernel_size=(3, 3), activation='relu')(input_layer)\n",
    "pool1 = keras.layers.MaxPooling2D(pool_size=(2, 2))(conv1)\n",
    "conv2 = keras.layers.Conv2D(64, kernel_size=(3, 3), activation='relu')(pool1)\n",
    "pool2 = keras.layers.MaxPooling2D(pool_size=(2, 2))(conv2)\n",
    "flat = keras.layers.Flatten()(pool2)\n",
    "output = keras.layers.Dense(10, activation='sigmoid')(flat)\n",
    "model = keras.models.Model(inputs=[input_layer], outputs=[output])\n",
    "model.summary()"
   ]
  },
  {
   "cell_type": "code",
   "execution_count": 54,
   "id": "c50b3609",
   "metadata": {},
   "outputs": [
    {
     "name": "stdout",
     "output_type": "stream",
     "text": [
      "Epoch 1/20\n",
      "399/399 [==============================] - 7s 17ms/step - loss: 0.4103 - categorical_accuracy: 0.8779 - val_loss: 0.1664 - val_categorical_accuracy: 0.9489\n",
      "Epoch 2/20\n",
      "399/399 [==============================] - 7s 17ms/step - loss: 0.1114 - categorical_accuracy: 0.9665 - val_loss: 0.0866 - val_categorical_accuracy: 0.9733\n",
      "Epoch 3/20\n",
      "399/399 [==============================] - 7s 19ms/step - loss: 0.0845 - categorical_accuracy: 0.9745 - val_loss: 0.0657 - val_categorical_accuracy: 0.9812\n",
      "Epoch 4/20\n",
      "399/399 [==============================] - 8s 19ms/step - loss: 0.0694 - categorical_accuracy: 0.9786 - val_loss: 0.0659 - val_categorical_accuracy: 0.9814\n",
      "Epoch 5/20\n",
      "399/399 [==============================] - 8s 20ms/step - loss: 0.0609 - categorical_accuracy: 0.9811 - val_loss: 0.0552 - val_categorical_accuracy: 0.9851\n",
      "Epoch 6/20\n",
      "399/399 [==============================] - 8s 20ms/step - loss: 0.0545 - categorical_accuracy: 0.9835 - val_loss: 0.0613 - val_categorical_accuracy: 0.9816\n",
      "Epoch 7/20\n",
      "399/399 [==============================] - 8s 20ms/step - loss: 0.0493 - categorical_accuracy: 0.9852 - val_loss: 0.0490 - val_categorical_accuracy: 0.9860\n",
      "Epoch 8/20\n",
      "399/399 [==============================] - 8s 21ms/step - loss: 0.0454 - categorical_accuracy: 0.9861 - val_loss: 0.0468 - val_categorical_accuracy: 0.9861\n",
      "Epoch 9/20\n",
      "399/399 [==============================] - 10s 24ms/step - loss: 0.0414 - categorical_accuracy: 0.9873 - val_loss: 0.0507 - val_categorical_accuracy: 0.9862\n",
      "Epoch 10/20\n",
      "399/399 [==============================] - 10s 24ms/step - loss: 0.0384 - categorical_accuracy: 0.9884 - val_loss: 0.0760 - val_categorical_accuracy: 0.9769\n",
      "Epoch 11/20\n",
      "399/399 [==============================] - 9s 24ms/step - loss: 0.0364 - categorical_accuracy: 0.9889 - val_loss: 0.0483 - val_categorical_accuracy: 0.9869\n",
      "Epoch 12/20\n",
      "399/399 [==============================] - 10s 24ms/step - loss: 0.0343 - categorical_accuracy: 0.9894 - val_loss: 0.0456 - val_categorical_accuracy: 0.9866\n",
      "Epoch 13/20\n",
      "399/399 [==============================] - 10s 24ms/step - loss: 0.0320 - categorical_accuracy: 0.9901 - val_loss: 0.0437 - val_categorical_accuracy: 0.9869\n",
      "Epoch 14/20\n",
      "399/399 [==============================] - 10s 25ms/step - loss: 0.0301 - categorical_accuracy: 0.9907 - val_loss: 0.0452 - val_categorical_accuracy: 0.9864\n",
      "Epoch 15/20\n",
      "399/399 [==============================] - 10s 24ms/step - loss: 0.0287 - categorical_accuracy: 0.9915 - val_loss: 0.0460 - val_categorical_accuracy: 0.9867\n",
      "Epoch 16/20\n",
      "399/399 [==============================] - 10s 25ms/step - loss: 0.0261 - categorical_accuracy: 0.9925 - val_loss: 0.0508 - val_categorical_accuracy: 0.9856\n",
      "Epoch 17/20\n",
      "399/399 [==============================] - 9s 23ms/step - loss: 0.0257 - categorical_accuracy: 0.9921 - val_loss: 0.0423 - val_categorical_accuracy: 0.9874\n",
      "Epoch 18/20\n",
      "399/399 [==============================] - 8s 21ms/step - loss: 0.0238 - categorical_accuracy: 0.9925 - val_loss: 0.0473 - val_categorical_accuracy: 0.9858\n",
      "Epoch 19/20\n",
      "399/399 [==============================] - 9s 22ms/step - loss: 0.0223 - categorical_accuracy: 0.9932 - val_loss: 0.0452 - val_categorical_accuracy: 0.9876\n",
      "Epoch 20/20\n",
      "399/399 [==============================] - 8s 21ms/step - loss: 0.0216 - categorical_accuracy: 0.9936 - val_loss: 0.0450 - val_categorical_accuracy: 0.9873\n"
     ]
    }
   ],
   "source": [
    "model.compile(loss='categorical_crossentropy', \n",
    "              optimizer=keras.optimizers.SGD(0.1),\n",
    "              metrics=['categorical_accuracy'])\n",
    "\n",
    "model_checkpoint_callback = keras.callbacks.ModelCheckpoint(\n",
    "    filepath='model.hdf5',\n",
    "    monitor='val_categorical_accuracy',\n",
    "    mode='max',\n",
    "    save_best_only=True)\n",
    "\n",
    "history = model.fit(train_x, \n",
    "                    train_y,\n",
    "                    batch_size=128,\n",
    "                    validation_split=0.15,\n",
    "                    shuffle=True,\n",
    "                    epochs=20,\n",
    "                    callbacks=[model_checkpoint_callback])"
   ]
  },
  {
   "cell_type": "code",
   "execution_count": 55,
   "id": "d4a0da00",
   "metadata": {},
   "outputs": [
    {
     "data": {
      "image/png": "[encoded data removed]",
      "text/plain": [
       "<Figure size 864x288 with 2 Axes>"
      ]
     },
     "metadata": {
      "needs_background": "light"
     },
     "output_type": "display_data"
    }
   ],
   "source": [
    "fig, axs = plt.subplots(1, 2, figsize=(12, 4))\n",
    "\n",
    "epochs_list = list(range(history.params['epochs']))\n",
    "axs[0].plot(epochs_list, history.history['loss'], color='red')\n",
    "axs[0].plot(epochs_list, history.history['val_loss'], color='blue')\n",
    "axs[1].plot(epochs_list, history.history['categorical_accuracy'], color='red')\n",
    "axs[1].plot(epochs_list, history.history['val_categorical_accuracy'], color='blue')\n",
    "plt.show()"
   ]
  },
  {
   "cell_type": "code",
   "execution_count": 56,
   "id": "7fccfc78",
   "metadata": {},
   "outputs": [
    {
     "name": "stdout",
     "output_type": "stream",
     "text": [
      "test loss: 0.03989076614379883\n",
      "test accuracy: 0.9878000020980835\n"
     ]
    }
   ],
   "source": [
    "results = model.evaluate(test_x, test_y, verbose=0)\n",
    "print(\"test loss:\", results[0])\n",
    "print(\"test accuracy:\", results[1])"
   ]
  },
  {
   "cell_type": "markdown",
   "id": "617b28c6",
   "metadata": {},
   "source": [
    "## Conv MNIST with LeakyReLU and Nesterov Momentum"
   ]
  },
  {
   "cell_type": "code",
   "execution_count": 69,
   "id": "96bbef8c",
   "metadata": {},
   "outputs": [
    {
     "name": "stdout",
     "output_type": "stream",
     "text": [
      "Model: \"model_11\"\n",
      "_________________________________________________________________\n",
      " Layer (type)                Output Shape              Param #   \n",
      "=================================================================\n",
      " input_12 (InputLayer)       [(None, 28, 28, 1)]       0         \n",
      "                                                                 \n",
      " conv2d_12 (Conv2D)          (None, 26, 26, 32)        320       \n",
      "                                                                 \n",
      " leaky_re_lu_10 (LeakyReLU)  (None, 26, 26, 32)        0         \n",
      "                                                                 \n",
      " max_pooling2d_12 (MaxPoolin  (None, 13, 13, 32)       0         \n",
      " g2D)                                                            \n",
      "                                                                 \n",
      " conv2d_13 (Conv2D)          (None, 11, 11, 64)        18496     \n",
      "                                                                 \n",
      " leaky_re_lu_11 (LeakyReLU)  (None, 11, 11, 64)        0         \n",
      "                                                                 \n",
      " max_pooling2d_13 (MaxPoolin  (None, 5, 5, 64)         0         \n",
      " g2D)                                                            \n",
      "                                                                 \n",
      " flatten_10 (Flatten)        (None, 1600)              0         \n",
      "                                                                 \n",
      " dropout (Dropout)           (None, 1600)              0         \n",
      "                                                                 \n",
      " dense_21 (Dense)            (None, 10)                16010     \n",
      "                                                                 \n",
      "=================================================================\n",
      "Total params: 34,826\n",
      "Trainable params: 34,826\n",
      "Non-trainable params: 0\n",
      "_________________________________________________________________\n"
     ]
    }
   ],
   "source": [
    "input_layer = keras.layers.Input((28, 28, 1))\n",
    "\n",
    "conv1 = keras.layers.Conv2D(32, kernel_size=(3, 3), activation=None)(input_layer)\n",
    "conv1 = keras.layers.LeakyReLU(0.01)(conv1)\n",
    "pool1 = keras.layers.MaxPooling2D(pool_size=(2, 2))(conv1)\n",
    "\n",
    "conv2 = keras.layers.Conv2D(64, kernel_size=(3, 3), activation=None)(pool1)\n",
    "conv2 = keras.layers.LeakyReLU(0.01)(conv2)\n",
    "pool2 = keras.layers.MaxPooling2D(pool_size=(2, 2))(conv2)\n",
    "\n",
    "flat = keras.layers.Flatten()(pool2)\n",
    "dropout = keras.layers.Dropout(0.5)(flat)\n",
    "output = keras.layers.Dense(10, activation='sigmoid')(dropout)\n",
    "\n",
    "model = keras.models.Model(inputs=[input_layer], outputs=[output])\n",
    "model.summary()"
   ]
  },
  {
   "cell_type": "code",
   "execution_count": 70,
   "id": "d983d8cd",
   "metadata": {},
   "outputs": [
    {
     "name": "stdout",
     "output_type": "stream",
     "text": [
      "Epoch 1/20\n",
      "399/399 [==============================] - 11s 25ms/step - loss: 0.2541 - categorical_accuracy: 0.9223 - val_loss: 0.0644 - val_categorical_accuracy: 0.9803\n",
      "Epoch 2/20\n",
      "399/399 [==============================] - 10s 25ms/step - loss: 0.0896 - categorical_accuracy: 0.9711 - val_loss: 0.0445 - val_categorical_accuracy: 0.9870\n",
      "Epoch 3/20\n",
      "399/399 [==============================] - 10s 25ms/step - loss: 0.0719 - categorical_accuracy: 0.9777 - val_loss: 0.0387 - val_categorical_accuracy: 0.9890\n",
      "Epoch 4/20\n",
      "399/399 [==============================] - 10s 25ms/step - loss: 0.0654 - categorical_accuracy: 0.9794 - val_loss: 0.0402 - val_categorical_accuracy: 0.9883\n",
      "Epoch 5/20\n",
      "399/399 [==============================] - 10s 26ms/step - loss: 0.0578 - categorical_accuracy: 0.9811 - val_loss: 0.0374 - val_categorical_accuracy: 0.9889\n",
      "Epoch 6/20\n",
      "399/399 [==============================] - 10s 25ms/step - loss: 0.0542 - categorical_accuracy: 0.9829 - val_loss: 0.0359 - val_categorical_accuracy: 0.9897\n",
      "Epoch 7/20\n",
      "399/399 [==============================] - 10s 25ms/step - loss: 0.0509 - categorical_accuracy: 0.9839 - val_loss: 0.0388 - val_categorical_accuracy: 0.9886\n",
      "Epoch 8/20\n",
      "399/399 [==============================] - 10s 25ms/step - loss: 0.0490 - categorical_accuracy: 0.9842 - val_loss: 0.0346 - val_categorical_accuracy: 0.9893\n",
      "Epoch 9/20\n",
      "399/399 [==============================] - 10s 25ms/step - loss: 0.0482 - categorical_accuracy: 0.9844 - val_loss: 0.0356 - val_categorical_accuracy: 0.9899\n",
      "Epoch 10/20\n",
      "399/399 [==============================] - 10s 25ms/step - loss: 0.0444 - categorical_accuracy: 0.9859 - val_loss: 0.0328 - val_categorical_accuracy: 0.9907\n",
      "Epoch 11/20\n",
      "399/399 [==============================] - 10s 24ms/step - loss: 0.0404 - categorical_accuracy: 0.9868 - val_loss: 0.0350 - val_categorical_accuracy: 0.9906\n",
      "Epoch 12/20\n",
      "399/399 [==============================] - 10s 25ms/step - loss: 0.0429 - categorical_accuracy: 0.9860 - val_loss: 0.0339 - val_categorical_accuracy: 0.9914\n",
      "Epoch 13/20\n",
      "399/399 [==============================] - 10s 25ms/step - loss: 0.0393 - categorical_accuracy: 0.9868 - val_loss: 0.0351 - val_categorical_accuracy: 0.9909\n",
      "Epoch 14/20\n",
      "399/399 [==============================] - 10s 26ms/step - loss: 0.0374 - categorical_accuracy: 0.9876 - val_loss: 0.0327 - val_categorical_accuracy: 0.9907\n",
      "Epoch 15/20\n",
      "399/399 [==============================] - 10s 25ms/step - loss: 0.0378 - categorical_accuracy: 0.9874 - val_loss: 0.0336 - val_categorical_accuracy: 0.9898\n",
      "Epoch 16/20\n",
      "399/399 [==============================] - 10s 25ms/step - loss: 0.0370 - categorical_accuracy: 0.9877 - val_loss: 0.0299 - val_categorical_accuracy: 0.9906\n",
      "Epoch 17/20\n",
      "399/399 [==============================] - 10s 25ms/step - loss: 0.0352 - categorical_accuracy: 0.9884 - val_loss: 0.0295 - val_categorical_accuracy: 0.9911\n",
      "Epoch 18/20\n",
      "399/399 [==============================] - 10s 25ms/step - loss: 0.0339 - categorical_accuracy: 0.9890 - val_loss: 0.0328 - val_categorical_accuracy: 0.9919\n",
      "Epoch 19/20\n",
      "399/399 [==============================] - 10s 25ms/step - loss: 0.0335 - categorical_accuracy: 0.9897 - val_loss: 0.0339 - val_categorical_accuracy: 0.9919\n",
      "Epoch 20/20\n",
      "399/399 [==============================] - 10s 25ms/step - loss: 0.0317 - categorical_accuracy: 0.9893 - val_loss: 0.0328 - val_categorical_accuracy: 0.9910\n"
     ]
    }
   ],
   "source": [
    "model.compile(loss='categorical_crossentropy', \n",
    "              optimizer=keras.optimizers.SGD(0.1, momentum=0.9, nesterov=True),\n",
    "              metrics=['categorical_accuracy'])\n",
    "\n",
    "model_checkpoint_callback = keras.callbacks.ModelCheckpoint(\n",
    "    filepath='model.hdf5',\n",
    "    monitor='val_categorical_accuracy',\n",
    "    mode='max',\n",
    "    save_best_only=True)\n",
    "\n",
    "history = model.fit(train_x, \n",
    "                    train_y,\n",
    "                    batch_size=128,\n",
    "                    validation_split=0.15,\n",
    "                    shuffle=True,\n",
    "                    epochs=20,\n",
    "                    callbacks=[model_checkpoint_callback])"
   ]
  },
  {
   "cell_type": "code",
   "execution_count": 71,
   "id": "ff4002ee",
   "metadata": {},
   "outputs": [
    {
     "data": {
      "image/png": "[encoded data removed]",
      "text/plain": [
       "<Figure size 864x288 with 2 Axes>"
      ]
     },
     "metadata": {
      "needs_background": "light"
     },
     "output_type": "display_data"
    }
   ],
   "source": [
    "fig, axs = plt.subplots(1, 2, figsize=(12, 4))\n",
    "\n",
    "epochs_list = list(range(history.params['epochs']))\n",
    "axs[0].plot(epochs_list, history.history['loss'], color='red')\n",
    "axs[0].plot(epochs_list, history.history['val_loss'], color='blue')\n",
    "axs[1].plot(epochs_list, history.history['categorical_accuracy'], color='red')\n",
    "axs[1].plot(epochs_list, history.history['val_categorical_accuracy'], color='blue')\n",
    "plt.show()"
   ]
  },
  {
   "cell_type": "code",
   "execution_count": 72,
   "id": "708f51c9",
   "metadata": {},
   "outputs": [
    {
     "name": "stdout",
     "output_type": "stream",
     "text": [
      "test loss: 0.02580391801893711\n",
      "test accuracy: 0.9919000267982483\n"
     ]
    }
   ],
   "source": [
    "results = model.evaluate(test_x, test_y, verbose=0)\n",
    "print(\"test loss:\", results[0])\n",
    "print(\"test accuracy:\", results[1])"
   ]
  }
 ],
 "metadata": {
  "kernelspec": {
   "display_name": "Python 3 (ipykernel)",
   "language": "python",
   "name": "python3"
  },
  "language_info": {
   "codemirror_mode": {
    "name": "ipython",
    "version": 3
   },
   "file_extension": ".py",
   "mimetype": "text/x-python",
   "name": "python",
   "nbconvert_exporter": "python",
   "pygments_lexer": "ipython3",
   "version": "3.10.6"
  }
 },
 "nbformat": 4,
 "nbformat_minor": 5
}
