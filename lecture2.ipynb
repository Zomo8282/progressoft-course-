{
  "cells": [
    {
      "cell_type": "markdown",
      "id": "d2b56e01",
      "metadata": {
        "id": "d2b56e01"
      },
      "source": [
        "# Lecture 2"
      ]
    },
    {
      "cell_type": "code",
      "execution_count": null,
      "id": "2e44e5aa",
      "metadata": {
        "id": "2e44e5aa"
      },
      "outputs": [],
      "source": [
        "import warnings\n",
        "warnings.filterwarnings(\"ignore\")"
      ]
    },
    {
      "cell_type": "markdown",
      "id": "9d22655f",
      "metadata": {
        "id": "9d22655f"
      },
      "source": [
        "## Logistic Regression"
      ]
    },
    {
      "cell_type": "code",
      "execution_count": null,
      "id": "f8a2e712",
      "metadata": {
        "id": "f8a2e712",
        "outputId": "bc63a9c7-8573-4ab4-ab20-ae41d85f657d"
      },
      "outputs": [
        {
          "data": {
            "text/html": [
              "<div>\n",
              "<style scoped>\n",
              "    .dataframe tbody tr th:only-of-type {\n",
              "        vertical-align: middle;\n",
              "    }\n",
              "\n",
              "    .dataframe tbody tr th {\n",
              "        vertical-align: top;\n",
              "    }\n",
              "\n",
              "    .dataframe thead th {\n",
              "        text-align: right;\n",
              "    }\n",
              "</style>\n",
              "<table border=\"1\" class=\"dataframe\">\n",
              "  <thead>\n",
              "    <tr style=\"text-align: right;\">\n",
              "      <th></th>\n",
              "      <th>Pregnancies</th>\n",
              "      <th>Glucose</th>\n",
              "      <th>BloodPressure</th>\n",
              "      <th>SkinThickness</th>\n",
              "      <th>Insulin</th>\n",
              "      <th>BMI</th>\n",
              "      <th>DiabetesPedigreeFunction</th>\n",
              "      <th>Age</th>\n",
              "      <th>Outcome</th>\n",
              "    </tr>\n",
              "  </thead>\n",
              "  <tbody>\n",
              "    <tr>\n",
              "      <th>0</th>\n",
              "      <td>6</td>\n",
              "      <td>148</td>\n",
              "      <td>72</td>\n",
              "      <td>35</td>\n",
              "      <td>0</td>\n",
              "      <td>33.6</td>\n",
              "      <td>0.627</td>\n",
              "      <td>50</td>\n",
              "      <td>1</td>\n",
              "    </tr>\n",
              "    <tr>\n",
              "      <th>1</th>\n",
              "      <td>1</td>\n",
              "      <td>85</td>\n",
              "      <td>66</td>\n",
              "      <td>29</td>\n",
              "      <td>0</td>\n",
              "      <td>26.6</td>\n",
              "      <td>0.351</td>\n",
              "      <td>31</td>\n",
              "      <td>0</td>\n",
              "    </tr>\n",
              "    <tr>\n",
              "      <th>2</th>\n",
              "      <td>8</td>\n",
              "      <td>183</td>\n",
              "      <td>64</td>\n",
              "      <td>0</td>\n",
              "      <td>0</td>\n",
              "      <td>23.3</td>\n",
              "      <td>0.672</td>\n",
              "      <td>32</td>\n",
              "      <td>1</td>\n",
              "    </tr>\n",
              "    <tr>\n",
              "      <th>3</th>\n",
              "      <td>1</td>\n",
              "      <td>89</td>\n",
              "      <td>66</td>\n",
              "      <td>23</td>\n",
              "      <td>94</td>\n",
              "      <td>28.1</td>\n",
              "      <td>0.167</td>\n",
              "      <td>21</td>\n",
              "      <td>0</td>\n",
              "    </tr>\n",
              "    <tr>\n",
              "      <th>4</th>\n",
              "      <td>0</td>\n",
              "      <td>137</td>\n",
              "      <td>40</td>\n",
              "      <td>35</td>\n",
              "      <td>168</td>\n",
              "      <td>43.1</td>\n",
              "      <td>2.288</td>\n",
              "      <td>33</td>\n",
              "      <td>1</td>\n",
              "    </tr>\n",
              "  </tbody>\n",
              "</table>\n",
              "</div>"
            ],
            "text/plain": [
              "   Pregnancies  Glucose  BloodPressure  SkinThickness  Insulin   BMI  \\\n",
              "0            6      148             72             35        0  33.6   \n",
              "1            1       85             66             29        0  26.6   \n",
              "2            8      183             64              0        0  23.3   \n",
              "3            1       89             66             23       94  28.1   \n",
              "4            0      137             40             35      168  43.1   \n",
              "\n",
              "   DiabetesPedigreeFunction  Age  Outcome  \n",
              "0                     0.627   50        1  \n",
              "1                     0.351   31        0  \n",
              "2                     0.672   32        1  \n",
              "3                     0.167   21        0  \n",
              "4                     2.288   33        1  "
            ]
          },
          "execution_count": 2,
          "metadata": {},
          "output_type": "execute_result"
        }
      ],
      "source": [
        "import pandas as pd\n",
        "\n",
        "data = pd.read_csv('diabetes.csv')\n",
        "data.head()"
      ]
    },
    {
      "cell_type": "code",
      "execution_count": null,
      "id": "a41f0c32",
      "metadata": {
        "id": "a41f0c32",
        "outputId": "e02ed230-55fe-495c-8faa-9346359e9b86"
      },
      "outputs": [
        {
          "name": "stdout",
          "output_type": "stream",
          "text": [
            "(768, 9)\n",
            "[[  6.    148.     72.    ...   0.627  50.      1.   ]\n",
            " [  1.     85.     66.    ...   0.351  31.      0.   ]\n",
            " [  8.    183.     64.    ...   0.672  32.      1.   ]\n",
            " ...\n",
            " [  5.    121.     72.    ...   0.245  30.      0.   ]\n",
            " [  1.    126.     60.    ...   0.349  47.      1.   ]\n",
            " [  1.     93.     70.    ...   0.315  23.      0.   ]]\n"
          ]
        }
      ],
      "source": [
        "data_tensor = data.to_numpy()\n",
        "print(data_tensor.shape)\n",
        "print(data_tensor)"
      ]
    },
    {
      "cell_type": "code",
      "execution_count": null,
      "id": "68de96d7",
      "metadata": {
        "id": "68de96d7",
        "outputId": "85416738-97fe-4e36-a90c-f2fcf9269f82"
      },
      "outputs": [
        {
          "name": "stdout",
          "output_type": "stream",
          "text": [
            "[[  4.    147.     74.    ...   0.385  30.      0.   ]\n",
            " [  0.    126.     84.    ...   0.52   24.      0.   ]\n",
            " [  6.    147.     80.    ...   0.178  50.      1.   ]\n",
            " ...\n",
            " [  9.    152.     78.    ...   0.893  33.      1.   ]\n",
            " [  3.    130.     64.    ...   0.314  22.      0.   ]\n",
            " [  0.    173.     78.    ...   1.159  58.      0.   ]]\n"
          ]
        }
      ],
      "source": [
        "import numpy as np\n",
        "np.random.shuffle(data_tensor)\n",
        "print(data_tensor)"
      ]
    },
    {
      "cell_type": "markdown",
      "id": "e51a4b24",
      "metadata": {
        "id": "e51a4b24"
      },
      "source": [
        "### Train-Test Split"
      ]
    },
    {
      "cell_type": "code",
      "execution_count": null,
      "id": "bafde53f",
      "metadata": {
        "id": "bafde53f",
        "outputId": "c6d8cf92-ab64-4f67-b89c-6659a2fdc8bb"
      },
      "outputs": [
        {
          "name": "stdout",
          "output_type": "stream",
          "text": [
            "537\n"
          ]
        }
      ],
      "source": [
        "train_data_percentage = 0.7\n",
        "train_data_len = int(len(data_tensor) * train_data_percentage)\n",
        "print(train_data_len)"
      ]
    },
    {
      "cell_type": "code",
      "execution_count": null,
      "id": "0aa279db",
      "metadata": {
        "id": "0aa279db"
      },
      "outputs": [],
      "source": [
        "train_data = data_tensor[:train_data_len]\n",
        "test_data = data_tensor[train_data_len:]"
      ]
    },
    {
      "cell_type": "code",
      "execution_count": null,
      "id": "7c542f4e",
      "metadata": {
        "id": "7c542f4e",
        "outputId": "985a2ca5-4571-433b-b8f1-8bafc9b686c3"
      },
      "outputs": [
        {
          "name": "stdout",
          "output_type": "stream",
          "text": [
            "(537, 8)\n",
            "[[  8.    133.     72.    ...  32.9     0.27   39.   ]\n",
            " [ 14.    175.     62.    ...  33.6     0.212  38.   ]\n",
            " [  1.     79.     80.    ...  25.4     0.583  22.   ]\n",
            " ...\n",
            " [  5.     97.     76.    ...  35.6     0.378  52.   ]\n",
            " [  1.     81.     74.    ...  46.3     1.096  32.   ]\n",
            " [  2.    141.     58.    ...  25.4     0.699  24.   ]]\n"
          ]
        }
      ],
      "source": [
        "train_data_x = train_data[:, :-1]\n",
        "print(train_data_x.shape)\n",
        "print(train_data_x)"
      ]
    },
    {
      "cell_type": "code",
      "execution_count": null,
      "id": "d1457707",
      "metadata": {
        "id": "d1457707",
        "outputId": "0dfe7929-8447-466a-cf58-50d49c285799"
      },
      "outputs": [
        {
          "name": "stdout",
          "output_type": "stream",
          "text": [
            "(537,)\n",
            "[1. 1. 0. 0. 0. 1. 0. 0. 0. 1. 0. 1. 0. 0. 1. 1. 0. 0. 0. 0. 1. 1. 1. 1.\n",
            " 0. 0. 0. 0. 0. 0. 1. 0. 1. 1. 0. 1. 0. 0. 0. 1. 1. 0. 0. 0. 1. 1. 0. 0.\n",
            " 0. 0. 0. 1. 0. 0. 0. 1. 1. 0. 0. 0. 0. 0. 0. 0. 0. 0. 0. 1. 0. 1. 1. 0.\n",
            " 1. 0. 0. 0. 1. 0. 0. 0. 1. 1. 1. 1. 0. 0. 0. 0. 0. 0. 1. 0. 1. 1. 1. 0.\n",
            " 1. 1. 0. 0. 1. 0. 0. 1. 0. 1. 0. 0. 1. 0. 1. 0. 1. 0. 0. 0. 1. 0. 1. 0.\n",
            " 0. 0. 1. 0. 1. 0. 0. 0. 0. 0. 0. 0. 0. 0. 0. 0. 0. 0. 1. 0. 1. 0. 0. 1.\n",
            " 0. 0. 0. 0. 1. 0. 0. 1. 1. 0. 1. 1. 1. 1. 0. 1. 1. 0. 0. 0. 1. 0. 0. 1.\n",
            " 0. 1. 1. 1. 0. 0. 0. 0. 0. 1. 0. 0. 0. 0. 0. 0. 0. 0. 1. 0. 0. 1. 0. 0.\n",
            " 0. 1. 1. 0. 0. 1. 0. 0. 1. 0. 0. 0. 1. 0. 0. 1. 0. 1. 0. 0. 0. 1. 0. 0.\n",
            " 0. 0. 0. 0. 0. 0. 1. 1. 0. 0. 0. 1. 0. 1. 1. 0. 1. 1. 1. 0. 0. 0. 0. 0.\n",
            " 0. 0. 1. 1. 1. 0. 0. 1. 0. 0. 0. 1. 0. 0. 1. 0. 1. 0. 0. 0. 0. 0. 0. 1.\n",
            " 0. 0. 0. 0. 0. 0. 0. 0. 0. 0. 0. 0. 0. 1. 0. 0. 0. 0. 0. 0. 0. 0. 0. 1.\n",
            " 0. 0. 0. 0. 0. 1. 0. 0. 1. 0. 0. 0. 0. 0. 0. 0. 1. 1. 0. 0. 0. 0. 0. 0.\n",
            " 1. 1. 0. 0. 1. 0. 1. 1. 0. 1. 1. 1. 1. 0. 0. 0. 1. 0. 0. 1. 1. 1. 0. 0.\n",
            " 1. 0. 1. 1. 1. 0. 1. 0. 0. 0. 0. 0. 0. 0. 0. 1. 0. 0. 0. 1. 0. 1. 0. 1.\n",
            " 0. 0. 1. 0. 0. 0. 0. 1. 0. 0. 0. 0. 0. 0. 0. 1. 1. 0. 0. 1. 0. 1. 1. 1.\n",
            " 1. 0. 0. 1. 0. 0. 1. 1. 0. 0. 1. 0. 1. 0. 0. 0. 1. 1. 0. 1. 0. 1. 0. 0.\n",
            " 0. 1. 1. 0. 1. 0. 0. 1. 1. 1. 1. 1. 1. 0. 1. 1. 0. 0. 0. 0. 1. 1. 0. 0.\n",
            " 1. 0. 0. 0. 1. 1. 0. 1. 1. 1. 0. 0. 1. 0. 0. 0. 0. 1. 1. 1. 1. 0. 1. 0.\n",
            " 0. 0. 0. 0. 0. 1. 1. 1. 1. 0. 1. 1. 0. 1. 0. 0. 1. 0. 1. 0. 0. 0. 1. 0.\n",
            " 0. 1. 0. 0. 0. 0. 0. 0. 0. 0. 1. 0. 0. 1. 0. 0. 0. 0. 0. 0. 0. 0. 1. 0.\n",
            " 1. 0. 1. 1. 0. 1. 0. 0. 1. 0. 0. 1. 0. 0. 0. 0. 1. 0. 1. 0. 0. 1. 1. 1.\n",
            " 0. 0. 0. 0. 0. 0. 1. 0. 0.]\n"
          ]
        }
      ],
      "source": [
        "train_data_label = train_data[:, -1]\n",
        "print(train_data_label.shape)\n",
        "print(train_data_label)"
      ]
    },
    {
      "cell_type": "code",
      "execution_count": null,
      "id": "ee34aaac",
      "metadata": {
        "id": "ee34aaac",
        "outputId": "b5b6daa3-80d1-4c77-b8a7-d7c4d2ead48d"
      },
      "outputs": [
        {
          "name": "stdout",
          "output_type": "stream",
          "text": [
            "(231, 8)\n",
            "(231,)\n"
          ]
        }
      ],
      "source": [
        "test_data_x = test_data[:, :-1]\n",
        "test_data_label = test_data[:, -1]\n",
        "print(test_data_x.shape)\n",
        "print(test_data_label.shape)"
      ]
    },
    {
      "cell_type": "markdown",
      "id": "169f12a6",
      "metadata": {
        "id": "169f12a6"
      },
      "source": [
        "### Fitting the model and calculating train and test accuracy"
      ]
    },
    {
      "cell_type": "code",
      "execution_count": null,
      "id": "bd8773ab",
      "metadata": {
        "id": "bd8773ab",
        "outputId": "c33d4df9-acc7-49c4-ab6d-00c0b748471b"
      },
      "outputs": [
        {
          "name": "stdout",
          "output_type": "stream",
          "text": [
            "train accuracy (at threshold 0.5): 0.7616387337057728\n"
          ]
        }
      ],
      "source": [
        "from sklearn.linear_model import LogisticRegression\n",
        "from sklearn.metrics import accuracy_score\n",
        "\n",
        "classifier = LogisticRegression(penalty='none').fit(train_data_x, train_data_label)\n",
        "\n",
        "predicted_training_score = classifier.predict_proba(train_data_x)[:, 1]\n",
        "threshold = 0.5\n",
        "predicted_training_label = predicted_training_score >= 0.5\n",
        "true_training_label = train_data_label >= 0.5\n",
        "\n",
        "train_acc = accuracy_score(true_training_label, predicted_training_label)\n",
        "print(f'train accuracy (at threshold {threshold}): {train_acc}')"
      ]
    },
    {
      "cell_type": "code",
      "execution_count": null,
      "id": "d44dbfbd",
      "metadata": {
        "id": "d44dbfbd",
        "outputId": "775d4fba-fbc5-4d67-9bd7-b1cc379e17bc"
      },
      "outputs": [
        {
          "name": "stdout",
          "output_type": "stream",
          "text": [
            "test accuracy (at threshold 0.5): 0.8008658008658008\n"
          ]
        }
      ],
      "source": [
        "predicted_test_score = classifier.predict_proba(test_data_x)[:, 1]\n",
        "\n",
        "predicted_test_label = predicted_test_score >= 0.5\n",
        "true_test_label = test_data_label >= 0.5\n",
        "\n",
        "test_acc = accuracy_score(true_test_label, predicted_test_label)\n",
        "print(f'test accuracy (at threshold {threshold}): {test_acc}')"
      ]
    },
    {
      "cell_type": "markdown",
      "id": "d1c25b14",
      "metadata": {
        "id": "d1c25b14"
      },
      "source": [
        "### Calculating other metrics for the train and test datasets"
      ]
    },
    {
      "cell_type": "code",
      "execution_count": null,
      "id": "b2cda4c4",
      "metadata": {
        "id": "b2cda4c4",
        "outputId": "f4b3ec47-e986-40d0-b610-8b86f71b8005"
      },
      "outputs": [
        {
          "name": "stdout",
          "output_type": "stream",
          "text": [
            "[[308  41]\n",
            " [ 87 101]]\n",
            " \n",
            "[[136  15]\n",
            " [ 31  49]]\n"
          ]
        }
      ],
      "source": [
        "from sklearn.metrics import confusion_matrix\n",
        "train_confusion = confusion_matrix(true_training_label, predicted_training_label)\n",
        "print(train_confusion)\n",
        "print(' ')\n",
        "test_confusion = confusion_matrix(true_test_label, predicted_test_label)\n",
        "print(test_confusion)"
      ]
    },
    {
      "cell_type": "code",
      "execution_count": null,
      "id": "5cdb8aff",
      "metadata": {
        "id": "5cdb8aff",
        "outputId": "73a9b86d-b4a2-4561-987c-6b7fdf7b967c"
      },
      "outputs": [
        {
          "name": "stdout",
          "output_type": "stream",
          "text": [
            "train: (at threshold 0.5)\n",
            "FNR: 0.22025316455696203\n",
            "FPR: 0.2887323943661972\n"
          ]
        }
      ],
      "source": [
        "train_fnr = train_confusion[1, 0] / (train_confusion[0, 0] + train_confusion[1, 0])\n",
        "train_fpr = train_confusion[0, 1] / (train_confusion[0, 1] + train_confusion[1, 1])\n",
        "\n",
        "print(f'train: (at threshold {threshold})')\n",
        "print(f'FNR: {train_fnr}')\n",
        "print(f'FPR: {train_fpr}')"
      ]
    },
    {
      "cell_type": "code",
      "execution_count": null,
      "id": "29d98cce",
      "metadata": {
        "id": "29d98cce",
        "outputId": "456c765e-58a9-4514-c119-78b542a31b9a"
      },
      "outputs": [
        {
          "name": "stdout",
          "output_type": "stream",
          "text": [
            "test: (at threshold 0.5)\n",
            "FNR: 0.18562874251497005\n",
            "FPR: 0.234375\n"
          ]
        }
      ],
      "source": [
        "test_fnr = test_confusion[1, 0] / (test_confusion[0, 0] + test_confusion[1, 0])\n",
        "test_fpr = test_confusion[0, 1] / (test_confusion[0, 1] + test_confusion[1, 1])\n",
        "\n",
        "print(f'test: (at threshold {threshold})')\n",
        "print(f'FNR: {test_fnr}')\n",
        "print(f'FPR: {test_fpr}')"
      ]
    },
    {
      "cell_type": "code",
      "execution_count": null,
      "id": "b41a0649",
      "metadata": {
        "id": "b41a0649",
        "outputId": "be622630-2e6e-405e-8268-e4b480e64362"
      },
      "outputs": [
        {
          "name": "stdout",
          "output_type": "stream",
          "text": [
            "train auc: 0.8297719929281229\n",
            "test auc: 0.8514072847682118\n"
          ]
        }
      ],
      "source": [
        "from sklearn.metrics import roc_curve, auc\n",
        "train_fpr, train_tpr, train_thresholds = roc_curve(train_data_label, predicted_training_score)\n",
        "train_auc = auc(train_fpr, train_tpr)\n",
        "test_fpr, test_tpr, test_thresholds = roc_curve(test_data_label, predicted_test_score)\n",
        "test_auc = auc(test_fpr, test_tpr)\n",
        "\n",
        "print(f'train auc: {train_auc}')\n",
        "print(f'test auc: {test_auc}')"
      ]
    },
    {
      "cell_type": "code",
      "execution_count": null,
      "id": "cff12596",
      "metadata": {
        "id": "cff12596",
        "outputId": "ecaf5183-878a-4fa2-91b8-88760d556eb5"
      },
      "outputs": [
        {
          "data": {
            "image/png": "[encoded data removed]",
            "text/plain": [
              "<Figure size 864x576 with 1 Axes>"
            ]
          },
          "metadata": {
            "needs_background": "light"
          },
          "output_type": "display_data"
        },
        {
          "data": {
            "image/png": "[encoded data removed]",
            "text/plain": [
              "<Figure size 864x576 with 1 Axes>"
            ]
          },
          "metadata": {
            "needs_background": "light"
          },
          "output_type": "display_data"
        }
      ],
      "source": [
        "from matplotlib import pyplot as plt\n",
        "\n",
        "plt.figure(figsize=(12, 8))\n",
        "plt.plot(train_fpr, train_tpr)\n",
        "plt.title('train')\n",
        "plt.show()\n",
        "plt.figure(figsize=(12, 8))\n",
        "plt.plot(test_fpr, test_tpr)\n",
        "plt.title('test')\n",
        "plt.show()"
      ]
    },
    {
      "cell_type": "code",
      "execution_count": null,
      "id": "f98cefc4",
      "metadata": {
        "id": "f98cefc4",
        "outputId": "8e042bdc-055a-49a8-895d-cf0c975841a8"
      },
      "outputs": [
        {
          "name": "stdout",
          "output_type": "stream",
          "text": [
            "train precision: 0.7112676056338029\n",
            "train recall: 0.5372340425531915\n",
            "train fscore: 0.6121212121212121\n",
            " \n",
            "test precision: 0.765625\n",
            "test recall: 0.6125\n",
            "test fscore: 0.6805555555555556\n"
          ]
        }
      ],
      "source": [
        "from sklearn.metrics import precision_recall_fscore_support\n",
        "\n",
        "train_precision, train_recall, train_fscore, _ = precision_recall_fscore_support(true_training_label, predicted_training_label, average='binary')\n",
        "test_precision, test_recall, test_fscore, _ = precision_recall_fscore_support(true_test_label, predicted_test_label, average='binary')\n",
        "\n",
        "print(f'train precision: {train_precision}')\n",
        "print(f'train recall: {train_recall}')\n",
        "print(f'train fscore: {train_fscore}')\n",
        "print(' ')\n",
        "\n",
        "print(f'test precision: {test_precision}')\n",
        "print(f'test recall: {test_recall}')\n",
        "print(f'test fscore: {test_fscore}')\n"
      ]
    },
    {
      "cell_type": "markdown",
      "id": "8972c256",
      "metadata": {
        "id": "8972c256"
      },
      "source": [
        "## Regulariztion"
      ]
    },
    {
      "cell_type": "markdown",
      "id": "f90ebfa3",
      "metadata": {
        "id": "f90ebfa3"
      },
      "source": [
        "### L1 Regularization"
      ]
    },
    {
      "cell_type": "code",
      "execution_count": null,
      "id": "a505edd8",
      "metadata": {
        "id": "a505edd8"
      },
      "outputs": [],
      "source": [
        "def print_metrics(classifier, threshold=0.5):\n",
        "    predicted_training_score = classifier.predict_proba(train_data_x)[:, 1]\n",
        "    predicted_training_label = predicted_training_score >= 0.5\n",
        "    true_training_label = train_data_label >= 0.5\n",
        "    train_acc = accuracy_score(true_training_label, predicted_training_label)\n",
        "    print(f'train accuracy (at threshold {threshold}): {train_acc}')\n",
        "\n",
        "    predicted_test_score = classifier.predict_proba(test_data_x)[:, 1]\n",
        "    predicted_test_label = predicted_test_score >= 0.5\n",
        "    true_test_label = test_data_label >= 0.5\n",
        "    test_acc = accuracy_score(true_test_label, predicted_test_label)\n",
        "    print(f'test accuracy (at threshold {threshold}): {test_acc}')\n",
        "\n",
        "    train_confusion = confusion_matrix(true_training_label, predicted_training_label)\n",
        "    print('')\n",
        "    print('train confusion matrix:')\n",
        "    print(train_confusion)\n",
        "    print('')\n",
        "    print('test confusion matrix:')\n",
        "    test_confusion = confusion_matrix(true_test_label, predicted_test_label)\n",
        "    print(test_confusion)\n",
        "\n",
        "    train_fnr = train_confusion[1, 0] / (train_confusion[0, 0] + train_confusion[1, 0])\n",
        "    train_fpr = train_confusion[0, 1] / (train_confusion[0, 1] + train_confusion[1, 1])\n",
        "\n",
        "    print('')\n",
        "    print(f'train: (at threshold {threshold})')\n",
        "    print(f'FNR: {train_fnr}')\n",
        "    print(f'FPR: {train_fpr}')\n",
        "\n",
        "    test_fnr = test_confusion[1, 0] / (test_confusion[0, 0] + test_confusion[1, 0])\n",
        "    test_fpr = test_confusion[0, 1] / (test_confusion[0, 1] + test_confusion[1, 1])\n",
        "\n",
        "    print('')\n",
        "    print(f'test: (at threshold {threshold})')\n",
        "    print(f'FNR: {test_fnr}')\n",
        "    print(f'FPR: {test_fpr}')\n",
        "\n",
        "    train_fpr, train_tpr, train_thresholds = roc_curve(train_data_label, predicted_training_score)\n",
        "    train_auc = auc(train_fpr, train_tpr)\n",
        "    test_fpr, test_tpr, test_thresholds = roc_curve(test_data_label, predicted_test_score)\n",
        "    test_auc = auc(test_fpr, test_tpr)\n",
        "\n",
        "    print('')\n",
        "    print(f'train auc: {train_auc}')\n",
        "    print(f'test auc: {test_auc}')\n",
        "\n",
        "    train_precision, train_recall, train_fscore, _ = precision_recall_fscore_support(true_training_label, predicted_training_label, average='binary')\n",
        "    test_precision, test_recall, test_fscore, _ = precision_recall_fscore_support(true_test_label, predicted_test_label, average='binary')\n",
        "\n",
        "    print('')\n",
        "    print(f'train precision: {train_precision}')\n",
        "    print(f'train recall: {train_recall}')\n",
        "    print(f'train fscore: {train_fscore}')\n",
        "\n",
        "    print('')\n",
        "    print(f'test precision: {test_precision}')\n",
        "    print(f'test recall: {test_recall}')\n",
        "    print(f'test fscore: {test_fscore}')"
      ]
    },
    {
      "cell_type": "code",
      "execution_count": null,
      "id": "a09ff766",
      "metadata": {
        "id": "a09ff766",
        "outputId": "57a538ea-940d-4bae-d67d-74d2de4dcbb7"
      },
      "outputs": [
        {
          "name": "stdout",
          "output_type": "stream",
          "text": [
            "train accuracy (at threshold 0.5): 0.6778398510242085\n",
            "test accuracy (at threshold 0.5): 0.7056277056277056\n",
            "\n",
            "train confusion matrix:\n",
            "[[315  34]\n",
            " [139  49]]\n",
            "\n",
            "test confusion matrix:\n",
            "[[137  14]\n",
            " [ 54  26]]\n",
            "\n",
            "train: (at threshold 0.5)\n",
            "FNR: 0.30616740088105726\n",
            "FPR: 0.40963855421686746\n",
            "\n",
            "test: (at threshold 0.5)\n",
            "FNR: 0.28272251308900526\n",
            "FPR: 0.35\n",
            "\n",
            "train auc: 0.6677437054197403\n",
            "test auc: 0.6858443708609272\n",
            "\n",
            "train precision: 0.5903614457831325\n",
            "train recall: 0.26063829787234044\n",
            "train fscore: 0.36162361623616235\n",
            "\n",
            "test precision: 0.65\n",
            "test recall: 0.325\n",
            "test fscore: 0.43333333333333335\n"
          ]
        }
      ],
      "source": [
        "classifier = LogisticRegression(penalty='l1', C=0.1, solver='saga').fit(train_data_x, train_data_label)\n",
        "print_metrics(classifier)"
      ]
    },
    {
      "cell_type": "markdown",
      "id": "0bfb9667",
      "metadata": {
        "id": "0bfb9667"
      },
      "source": [
        "### L2 Regularization"
      ]
    },
    {
      "cell_type": "code",
      "execution_count": null,
      "id": "3ba1f7f6",
      "metadata": {
        "id": "3ba1f7f6",
        "outputId": "7fedba8b-b1ea-4c35-c92c-1d93a804241b"
      },
      "outputs": [
        {
          "name": "stdout",
          "output_type": "stream",
          "text": [
            "train accuracy (at threshold 0.5): 0.7560521415270018\n",
            "test accuracy (at threshold 0.5): 0.7878787878787878\n",
            "\n",
            "train confusion matrix:\n",
            "[[307  42]\n",
            " [ 89  99]]\n",
            "\n",
            "test confusion matrix:\n",
            "[[133  18]\n",
            " [ 31  49]]\n",
            "\n",
            "train: (at threshold 0.5)\n",
            "FNR: 0.22474747474747475\n",
            "FPR: 0.2978723404255319\n",
            "\n",
            "test: (at threshold 0.5)\n",
            "FNR: 0.18902439024390244\n",
            "FPR: 0.26865671641791045\n",
            "\n",
            "train auc: 0.8182192281899653\n",
            "test auc: 0.854387417218543\n",
            "\n",
            "train precision: 0.7021276595744681\n",
            "train recall: 0.526595744680851\n",
            "train fscore: 0.601823708206687\n",
            "\n",
            "test precision: 0.7313432835820896\n",
            "test recall: 0.6125\n",
            "test fscore: 0.6666666666666667\n"
          ]
        }
      ],
      "source": [
        "classifier = LogisticRegression(penalty='l2', C=0.001).fit(train_data_x, train_data_label)\n",
        "print_metrics(classifier)"
      ]
    },
    {
      "cell_type": "code",
      "execution_count": null,
      "id": "e2f54f87",
      "metadata": {
        "id": "e2f54f87",
        "outputId": "3a1c7e8a-5ffc-4dfb-fbcb-5358d0112a30"
      },
      "outputs": [
        {
          "name": "stdout",
          "output_type": "stream",
          "text": [
            "train accuracy (at threshold 0.5): 0.6703910614525139\n",
            "test accuracy (at threshold 0.5): 0.6796536796536796\n",
            "\n",
            "train confusion matrix:\n",
            "[[323  26]\n",
            " [151  37]]\n",
            "\n",
            "test confusion matrix:\n",
            "[[138  13]\n",
            " [ 61  19]]\n",
            "\n",
            "train: (at threshold 0.5)\n",
            "FNR: 0.31856540084388185\n",
            "FPR: 0.4126984126984127\n",
            "\n",
            "test: (at threshold 0.5)\n",
            "FNR: 0.3065326633165829\n",
            "FPR: 0.40625\n",
            "\n",
            "train auc: 0.6334969212948851\n",
            "test auc: 0.6702814569536424\n",
            "\n",
            "train precision: 0.5873015873015873\n",
            "train recall: 0.19680851063829788\n",
            "train fscore: 0.2948207171314741\n",
            "\n",
            "test precision: 0.59375\n",
            "test recall: 0.2375\n",
            "test fscore: 0.3392857142857143\n"
          ]
        }
      ],
      "source": [
        "classifier = LogisticRegression(penalty='elasticnet', C=0.001, l1_ratio=0.2, solver='saga').fit(train_data_x, train_data_label)\n",
        "print_metrics(classifier)"
      ]
    },
    {
      "cell_type": "markdown",
      "id": "e44802d3",
      "metadata": {
        "id": "e44802d3"
      },
      "source": [
        "## Model Validation & Selection"
      ]
    },
    {
      "cell_type": "code",
      "execution_count": null,
      "id": "d17a5f07",
      "metadata": {
        "id": "d17a5f07",
        "outputId": "d9488c6e-4b7f-4ce5-9ab0-b9be371b7600"
      },
      "outputs": [
        {
          "name": "stdout",
          "output_type": "stream",
          "text": [
            "537\n",
            "115\n"
          ]
        }
      ],
      "source": [
        "train_data_percentage = 0.7\n",
        "validation_data_percentage = 0.15\n",
        "train_data_len = int(len(data_tensor) * train_data_percentage)\n",
        "print(train_data_len)\n",
        "validation_data_len = int(len(data_tensor) * validation_data_percentage)\n",
        "print(validation_data_len)"
      ]
    },
    {
      "cell_type": "code",
      "execution_count": null,
      "id": "1299727f",
      "metadata": {
        "id": "1299727f"
      },
      "outputs": [],
      "source": [
        "train_data = data_tensor[:train_data_len]\n",
        "validation_data = data_tensor[train_data_len:train_data_len + validation_data_len]\n",
        "test_data = data_tensor[train_data_len + validation_data_len:]\n",
        "\n",
        "train_data_x = train_data[:, :-1]\n",
        "train_data_label = train_data[:, -1]\n",
        "\n",
        "validation_data_x = validation_data[:, :-1]\n",
        "validation_data_label = validation_data[:, -1]\n",
        "\n",
        "test_data_x = test_data[:, :-1]\n",
        "test_data_label = test_data[:, -1]"
      ]
    },
    {
      "cell_type": "code",
      "execution_count": null,
      "id": "033370c9",
      "metadata": {
        "id": "033370c9",
        "outputId": "7aa70268-a609-49e3-c8b8-d65d657a3f2d"
      },
      "outputs": [
        {
          "name": "stdout",
          "output_type": "stream",
          "text": [
            "C = 100, validation accuracy = 0.808695652173913\n",
            "C = 10, validation accuracy = 0.8173913043478261\n",
            "C = 1, validation accuracy = 0.8173913043478261\n",
            "C = 0.1, validation accuracy = 0.8173913043478261\n",
            "C = 0.01, validation accuracy = 0.8521739130434782\n",
            "C = 0.001, validation accuracy = 0.8173913043478261\n",
            "\n",
            "best C: 0.01, max validation accuracy: 0.8521739130434782\n"
          ]
        }
      ],
      "source": [
        "C_choices = [100, 10, 1, 0.1, 0.01, 0.001]\n",
        "\n",
        "best_C = None\n",
        "max_acc = -1\n",
        "\n",
        "for C in C_choices:\n",
        "    classifier = LogisticRegression(penalty='l2', C=C).fit(train_data_x, train_data_label)\n",
        "    predicted_validation_score = classifier.predict_proba(validation_data_x)[:, 1]\n",
        "    predicted_validation_label = predicted_validation_score >= 0.5\n",
        "    true_validation_label = validation_data_label >= 0.5\n",
        "    validation_acc = accuracy_score(true_validation_label, predicted_validation_label)\n",
        "    print(f'C = {C}, validation accuracy = {validation_acc}')\n",
        "\n",
        "    if validation_acc > max_acc:\n",
        "        max_acc = validation_acc\n",
        "        best_C = C\n",
        "\n",
        "print('')\n",
        "print(f'best C: {best_C}, max validation accuracy: {max_acc}')"
      ]
    },
    {
      "cell_type": "code",
      "execution_count": null,
      "id": "2e4a9afe",
      "metadata": {
        "id": "2e4a9afe",
        "outputId": "1e7605ec-4520-4abc-c27f-5f430a60d9c0"
      },
      "outputs": [
        {
          "name": "stdout",
          "output_type": "stream",
          "text": [
            "test accuracy: 0.7672413793103449\n"
          ]
        }
      ],
      "source": [
        "classifier = LogisticRegression(penalty='l2', C=best_C).fit(train_data_x, train_data_label)\n",
        "predicted_test_score = classifier.predict_proba(test_data_x)[:, 1]\n",
        "predicted_test_label = predicted_test_score >= 0.5\n",
        "true_test_label = test_data_label >= 0.5\n",
        "test_acc = accuracy_score(true_test_label, predicted_test_label)\n",
        "print(f'test accuracy: {test_acc}')"
      ]
    },
    {
      "cell_type": "markdown",
      "id": "87ecff73",
      "metadata": {
        "id": "87ecff73"
      },
      "source": [
        "### k-fold cross-validation"
      ]
    },
    {
      "cell_type": "code",
      "execution_count": null,
      "id": "63e7dc41",
      "metadata": {
        "id": "63e7dc41"
      },
      "outputs": [],
      "source": [
        "train_data_percentage = 0.85\n",
        "train_data_len = int(len(data_tensor) * train_data_percentage)\n",
        "\n",
        "train_data = data_tensor[:train_data_len]\n",
        "test_data = data_tensor[train_data_len:]\n",
        "\n",
        "test_data_x = test_data[:, :-1]\n",
        "test_data_label = test_data[:, -1]"
      ]
    },
    {
      "cell_type": "code",
      "execution_count": null,
      "id": "3a37d0ef",
      "metadata": {
        "id": "3a37d0ef",
        "outputId": "e01b030e-4e7e-4f5a-d87d-6f1436a71ede"
      },
      "outputs": [
        {
          "name": "stdout",
          "output_type": "stream",
          "text": [
            "C = 100, k-fold average validation accuracy = 0.7776456876456876\n",
            "C = 10, k-fold average validation accuracy = 0.7715384615384615\n",
            "C = 1, k-fold average validation accuracy = 0.7806993006993007\n",
            "C = 0.1, k-fold average validation accuracy = 0.7700699300699301\n",
            "C = 0.01, k-fold average validation accuracy = 0.763916083916084\n",
            "C = 0.001, k-fold average validation accuracy = 0.7622843822843823\n",
            "\n",
            "best C: 1, max k-fold average validation accuracy: 0.7806993006993007\n"
          ]
        }
      ],
      "source": [
        "from sklearn.model_selection import KFold\n",
        "kfold = KFold(10)\n",
        "\n",
        "C_choices = [100, 10, 1, 0.1, 0.01, 0.001]\n",
        "\n",
        "best_C = None\n",
        "max_acc = -1\n",
        "\n",
        "for C in C_choices:\n",
        "    validation_accuracies = []\n",
        "    for train_data_fold, validation_data_fold in kfold.split(train_data):\n",
        "        train_data_x = train_data[train_data_fold][:, :-1]\n",
        "        train_data_label = train_data[train_data_fold][:, -1]\n",
        "\n",
        "        validation_data_x = train_data[validation_data_fold][:, :-1]\n",
        "        validation_data_label = train_data[validation_data_fold][:, -1]\n",
        "\n",
        "        classifier = LogisticRegression(penalty='l2', C=C).fit(train_data_x, train_data_label)\n",
        "        predicted_validation_score = classifier.predict_proba(validation_data_x)[:, 1]\n",
        "        predicted_validation_label = predicted_validation_score >= 0.5\n",
        "        true_validation_label = validation_data_label >= 0.5\n",
        "        validation_acc = accuracy_score(true_validation_label, predicted_validation_label)\n",
        "        validation_accuracies.append(validation_acc)\n",
        "\n",
        "    average_validation_accuracy = np.mean(validation_accuracies)\n",
        "    print(f'C = {C}, k-fold average validation accuracy = {average_validation_accuracy}')\n",
        "\n",
        "    if average_validation_accuracy > max_acc:\n",
        "        max_acc = average_validation_accuracy\n",
        "        best_C = C\n",
        "\n",
        "print('')\n",
        "print(f'best C: {best_C}, max k-fold average validation accuracy: {max_acc}')"
      ]
    },
    {
      "cell_type": "code",
      "execution_count": null,
      "id": "d15c990e",
      "metadata": {
        "id": "d15c990e",
        "outputId": "259af1a0-fcba-48a4-9c41-6eb9ee1a0cc3"
      },
      "outputs": [
        {
          "name": "stdout",
          "output_type": "stream",
          "text": [
            "test accuracy: 0.7758620689655172\n"
          ]
        }
      ],
      "source": [
        "train_data_x = train_data[:, :-1]\n",
        "train_data_label = train_data[:, -1]\n",
        "\n",
        "classifier = LogisticRegression(penalty='l2', C=best_C).fit(train_data_x, train_data_label)\n",
        "predicted_test_score = classifier.predict_proba(test_data_x)[:, 1]\n",
        "predicted_test_label = predicted_test_score >= 0.5\n",
        "true_test_label = test_data_label >= 0.5\n",
        "test_acc = accuracy_score(true_test_label, predicted_test_label)\n",
        "print(f'test accuracy: {test_acc}')"
      ]
    },
    {
      "cell_type": "markdown",
      "id": "e66796bd",
      "metadata": {
        "id": "e66796bd"
      },
      "source": [
        "### feature subset selection"
      ]
    },
    {
      "cell_type": "code",
      "execution_count": null,
      "id": "0555e75e",
      "metadata": {
        "id": "0555e75e",
        "outputId": "717b3943-5b23-409a-d790-d26e4d38414a"
      },
      "outputs": [
        {
          "name": "stdout",
          "output_type": "stream",
          "text": [
            "best validation accuracy: 0.7652173913043478, parameters deleted: (0, 7)\n"
          ]
        }
      ],
      "source": [
        "from itertools import combinations\n",
        "\n",
        "train_data_percentage = 0.7\n",
        "validation_data_percentage = 0.15\n",
        "train_data_len = int(len(data_tensor) * train_data_percentage)\n",
        "validation_data_len = int(len(data_tensor) * validation_data_percentage)\n",
        "\n",
        "k = data_tensor.shape[1] - 1\n",
        "\n",
        "best_deleted_parameters = None\n",
        "best_validation_accuracy = -1\n",
        "\n",
        "for r in range(0, k - 2):\n",
        "    for deleted_parameters in combinations(list(range(k)), r):\n",
        "        if len(deleted_parameters) == 0:\n",
        "            new_data_tensor = np.array(data_tensor)\n",
        "        else:\n",
        "            new_data_tensor = np.delete(data_tensor, deleted_parameters, 1)\n",
        "\n",
        "        train_data = new_data_tensor[:train_data_len]\n",
        "        validation_data = new_data_tensor[train_data_len:train_data_len + validation_data_len]\n",
        "\n",
        "        train_data_x = train_data[:, :-1]\n",
        "        train_data_label = train_data[:, -1]\n",
        "\n",
        "        validation_data_x = validation_data[:, :-1]\n",
        "        validation_data_label = validation_data[:, -1]\n",
        "\n",
        "        classifier = LogisticRegression().fit(train_data_x, train_data_label)\n",
        "\n",
        "        predicted_validation_score = classifier.predict_proba(validation_data_x)[:, 1]\n",
        "        predicted_validation_label = predicted_validation_score >= 0.5\n",
        "        true_validation_label = validation_data_label >= 0.5\n",
        "        validation_acc = accuracy_score(true_validation_label, predicted_validation_label)\n",
        "\n",
        "        if validation_acc > best_validation_accuracy:\n",
        "            best_validation_accuracy = validation_acc\n",
        "            best_deleted_parameters = deleted_parameters\n",
        "\n",
        "print(f'best validation accuracy: {best_validation_accuracy}, parameters deleted: {best_deleted_parameters}')"
      ]
    },
    {
      "cell_type": "code",
      "execution_count": null,
      "id": "eee22536",
      "metadata": {
        "id": "eee22536",
        "outputId": "b2d840e1-19bf-4907-a103-610405c4aa81"
      },
      "outputs": [
        {
          "name": "stdout",
          "output_type": "stream",
          "text": [
            "test accuracy: 0.7327586206896551\n"
          ]
        }
      ],
      "source": [
        "if len(best_deleted_parameters) == 0:\n",
        "    new_data_tensor = np.array(data_tensor)\n",
        "else:\n",
        "    new_data_tensor = np.delete(data_tensor, best_deleted_parameters, 1)\n",
        "\n",
        "train_data = new_data_tensor[:train_data_len]\n",
        "test_data = new_data_tensor[train_data_len + validation_data_len:]\n",
        "\n",
        "train_data_x = train_data[:, :-1]\n",
        "train_data_label = train_data[:, -1]\n",
        "test_data_x = test_data[:, :-1]\n",
        "test_data_label = test_data[:, -1]\n",
        "\n",
        "classifier = LogisticRegression().fit(train_data_x, train_data_label)\n",
        "\n",
        "predicted_test_score = classifier.predict_proba(test_data_x)[:, 1]\n",
        "predicted_test_label = predicted_test_score >= 0.5\n",
        "true_test_label = test_data_label >= 0.5\n",
        "test_acc = accuracy_score(true_test_label, predicted_test_label)\n",
        "print(f'test accuracy: {test_acc}')"
      ]
    }
  ],
  "metadata": {
    "kernelspec": {
      "display_name": "Python 3 (ipykernel)",
      "language": "python",
      "name": "python3"
    },
    "language_info": {
      "codemirror_mode": {
        "name": "ipython",
        "version": 3
      },
      "file_extension": ".py",
      "mimetype": "text/x-python",
      "name": "python",
      "nbconvert_exporter": "python",
      "pygments_lexer": "ipython3",
      "version": "3.10.6"
    },
    "colab": {
      "provenance": []
    }
  },
  "nbformat": 4,
  "nbformat_minor": 5
}